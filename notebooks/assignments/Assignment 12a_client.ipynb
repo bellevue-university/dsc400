{
 "cells": [
  {
   "cell_type": "markdown",
   "metadata": {},
   "source": [
    "# Deploying Machine Learning Models"
   ]
  },
  {
   "cell_type": "markdown",
   "metadata": {},
   "source": [
    "## Client Test\n",
    "\n",
    "This notebook contains the client code used to test the server implementation. "
   ]
  },
  {
   "cell_type": "code",
   "execution_count": null,
   "metadata": {},
   "outputs": [],
   "source": [
    "import requests\n",
    "import time\n",
    "\n",
    "def classify_request(\n",
    "    img_url, host='localhost', \n",
    "    port='9999', \n",
    "    path='classify'\n",
    "):\n",
    "    api_endpoint = 'http://{}:{}/{}'.format(host, port, path)\n",
    "    params = dict(img=img_url)\n",
    "    r = requests.get(api_endpoint, params=params)\n",
    "    \n",
    "    print('Request URL: {}'.format(r.url))\n",
    "    if r.status_code == 200:\n",
    "        print('Content Type: {}'.format(r.headers['content-type']))\n",
    "        return r.json()\n",
    "    else:\n",
    "        print('Status Code: {}'.format(r.status_code))"
   ]
  },
  {
   "cell_type": "markdown",
   "metadata": {},
   "source": [
    "With the server is running in the other notebook, run the code below to make image classification requests. You can modify the time between requests or the image URLs as you desire. "
   ]
  },
  {
   "cell_type": "code",
   "execution_count": null,
   "metadata": {},
   "outputs": [],
   "source": [
    "time_between_requests = 10\n",
    "\n",
    "# TODO: Add URLs for testing\n",
    "img_urls = []\n",
    "\n",
    "for img_url in img_urls:\n",
    "    result = classify_request(img_url)\n",
    "    print(result)\n",
    "    time.sleep(time_between_requests)"
   ]
  }
 ],
 "metadata": {
  "kernelspec": {
   "display_name": "Python 3 (ipykernel)",
   "language": "python",
   "name": "python3"
  },
  "language_info": {
   "codemirror_mode": {
    "name": "ipython",
    "version": 3
   },
   "file_extension": ".py",
   "mimetype": "text/x-python",
   "name": "python",
   "nbconvert_exporter": "python",
   "pygments_lexer": "ipython3",
   "version": "3.9.7"
  }
 },
 "nbformat": 4,
 "nbformat_minor": 4
}
