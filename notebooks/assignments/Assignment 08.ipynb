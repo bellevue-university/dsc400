{
 "cells": [
  {
   "cell_type": "markdown",
   "metadata": {},
   "source": [
    "# Interactive Querying with Spark SQL"
   ]
  },
  {
   "cell_type": "markdown",
   "metadata": {},
   "source": [
    "## Assignment 8\n",
    "\n",
    "In this assignment, you will create a small SQL-based data warehouse using [Spark SQL](http://spark.apache.org/docs/latest/sql-programming-guide.html). You will then run basic SQL queries on the dataset. \n",
    "\n",
    "For this assignment, we will use a dataset derived from the [official Stardew Valley wiki](https://stardewvalleywiki.com/Stardew_Valley_Wiki) whose content is available under the [Creative Commons Attribution-NonCommercial-ShareAlike]( https://creativecommons.org/licenses/by-nc-sa/3.0/) license. \n",
    "\n",
    "As a first step, we load the CSV files into Pandas dataframes.  In a later stage, you will convert these to run as Spark dataframes. "
   ]
  },
  {
   "cell_type": "code",
   "execution_count": null,
   "metadata": {},
   "outputs": [],
   "source": [
    "import pandas as pd\n",
    "import numpy as np\n",
    "\n",
    "base_github_repo_url = 'https://raw.githubusercontent.com/bellevue-university/dsc400/main'\n",
    "family_csv_url = base_github_repo_url + '/data/stardew/family.csv'\n",
    "friends_csv_url = base_github_repo_url + '/data/stardew/friends.csv'\n",
    "gifts_csv_url = base_github_repo_url + '/data/stardew/gifts.csv'\n",
    "villagers_csv_url = base_github_repo_url + '/data/stardew/villagers.csv'\n",
    "\n",
    "pd_df_family = pd.read_csv(family_csv_url, index_col='id')\n",
    "pd_df_gifts = pd.read_csv(gifts_csv_url, index_col='id')\n",
    "pd_df_friends = pd.read_csv(friends_csv_url, index_col='id')\n",
    "pd_df_villagers = pd.read_csv(villagers_csv_url, index_col='id')\n",
    "\n",
    "pd_df_villagers['birthday'] = pd_df_villagers['birthday'].replace(np.nan, 'Unknown')"
   ]
  },
  {
   "cell_type": "markdown",
   "metadata": {},
   "source": [
    "### Assignment 8.1\n",
    "\n",
    "In the first part of the assignment, you will create Spark dataframes from the existing Pandas dataframes. Once you create the Spark dataframes, print the schema using `printSchema` and show the dataframe using `show`. "
   ]
  },
  {
   "cell_type": "code",
   "execution_count": null,
   "metadata": {},
   "outputs": [],
   "source": [
    "from pyspark.sql import SparkSession\n",
    "\n",
    "spark = SparkSession \\\n",
    "    .builder \\\n",
    "    .appName(\"DSC 400 Assignment 8\") \\\n",
    "    .getOrCreate()\n",
    "\n",
    "spark_context = spark.sparkContext"
   ]
  },
  {
   "cell_type": "markdown",
   "metadata": {},
   "source": [
    "The following is fully implemented code that converts the `pd_df_family` dataframe into a Spark dataframe, prints the schema, and shows the dataframe. "
   ]
  },
  {
   "cell_type": "code",
   "execution_count": null,
   "metadata": {},
   "outputs": [],
   "source": [
    "df_family = spark.createDataFrame(pd_df_family)\n",
    "df_family.printSchema()\n",
    "df_family.show()"
   ]
  },
  {
   "cell_type": "markdown",
   "metadata": {},
   "source": [
    "Repeat the process shown above for the remaining dataframes. "
   ]
  },
  {
   "cell_type": "code",
   "execution_count": null,
   "metadata": {},
   "outputs": [],
   "source": [
    "# TODO: Create a PySpark dataframe `df_gifts` from `pd_df_gifts`\n",
    "# TODO: Print the schema and show the dataframe\n",
    "df_gifts = None"
   ]
  },
  {
   "cell_type": "code",
   "execution_count": null,
   "metadata": {},
   "outputs": [],
   "source": [
    "# TODO: Create a PySpark dataframe `df_friends` from `pd_df_friends`\n",
    "# TODO: Print the schema and show the dataframe\n",
    "df_friends = None"
   ]
  },
  {
   "cell_type": "markdown",
   "metadata": {},
   "source": [
    "We need to create an explicit schema for the villager dataframe as Spark has difficulty infering this schema from the Pandas dataframe. "
   ]
  },
  {
   "cell_type": "code",
   "execution_count": null,
   "metadata": {},
   "outputs": [],
   "source": [
    "from pyspark.sql.types import StructType, StringType, BooleanType, StructField\n",
    "\n",
    "villager_schema = StructType([\n",
    "    StructField(\"name\", StringType(), True),\n",
    "    StructField(\"birthday\", StringType(), True),\n",
    "    StructField(\"address\", StringType(), True),\n",
    "    StructField(\"is_marriable\", BooleanType(), True),\n",
    "    StructField(\"img_url\", StringType(), True),\n",
    "])\n",
    "\n",
    "df_villagers = spark.createDataFrame(pd_df_villagers, villager_schema)\n",
    "\n",
    "# TODO: Print the schema and show the dataframe"
   ]
  },
  {
   "cell_type": "markdown",
   "metadata": {},
   "source": [
    "### Assignment 8.2\n",
    "\n",
    "Now that we have loaded the dataframes, we will use the dataframes to create a temporary SQL-based data warehouse. In a production environment, we could persist these tables for later use. \n",
    "\n",
    "Register each of the dataframes as a Spark [Global Tempory View](http://spark.apache.org/docs/latest/sql-getting-started.html#global-temporary-view) using the view names, *family*, *friends*, *gifts*, and *villagers* for the dataframes *df_family*, *df_friends*, *df_gifts*, and *df_villagers* respectively.  "
   ]
  },
  {
   "cell_type": "code",
   "execution_count": null,
   "metadata": {},
   "outputs": [],
   "source": [
    "# TODO: Create a temporary `family` view using the `df_family` dataframe\n"
   ]
  },
  {
   "cell_type": "code",
   "execution_count": null,
   "metadata": {},
   "outputs": [],
   "source": [
    "# TODO: Create a temporary `friends` view using the `df_friends` dataframe\n"
   ]
  },
  {
   "cell_type": "code",
   "execution_count": null,
   "metadata": {},
   "outputs": [],
   "source": [
    "# TODO: Create a temporary `gifts` view using the `df_gifts` dataframe\n"
   ]
  },
  {
   "cell_type": "code",
   "execution_count": null,
   "metadata": {},
   "outputs": [],
   "source": [
    "# TODO: Create a temporary `villagers` view using the `df_villagers` dataframe\n"
   ]
  },
  {
   "cell_type": "markdown",
   "metadata": {},
   "source": [
    "Verify that the views exist by using the following SQL queries. "
   ]
  },
  {
   "cell_type": "code",
   "execution_count": null,
   "metadata": {},
   "outputs": [],
   "source": [
    "# This should output the first 20 rows of the family table\n",
    "spark.sql(\"SELECT * FROM family\").show()"
   ]
  },
  {
   "cell_type": "code",
   "execution_count": null,
   "metadata": {},
   "outputs": [],
   "source": [
    "# This should output the first 20 rows of the friends table\n",
    "spark.sql(\"SELECT * FROM friends\").show()"
   ]
  },
  {
   "cell_type": "code",
   "execution_count": null,
   "metadata": {},
   "outputs": [],
   "source": [
    "# This should output the first 20 rows of the gifts table\n",
    "spark.sql(\"SELECT * FROM gifts\").show()"
   ]
  },
  {
   "cell_type": "code",
   "execution_count": null,
   "metadata": {},
   "outputs": [],
   "source": [
    "# # This should output the first 20 rows of the villagers table\n",
    "spark.sql(\"SELECT * FROM villagers\").show()"
   ]
  },
  {
   "cell_type": "markdown",
   "metadata": {},
   "source": [
    "### Assignment 8.3\n",
    "\n",
    "In the final part of the assignment, you will run some basic SQL queries. [Spark's SQL reference guide](http://spark.apache.org/docs/latest/sql-ref.html) and [Spark's SQL getting started guide](http://spark.apache.org/docs/latest/sql-getting-started.html) will help complete these queries. "
   ]
  },
  {
   "cell_type": "markdown",
   "metadata": {},
   "source": [
    "#### Assignment 8.3.a\n",
    "\n",
    "Using a `SELECT` statement and `WHERE` clause, run a query that returns all Sebastian's friends. Sebastian's `villager_id` is Sebastian. Select only the `friend_id` column in the results to be returned. "
   ]
  },
  {
   "cell_type": "code",
   "execution_count": null,
   "metadata": {},
   "outputs": [],
   "source": [
    "# TODO: Run SQL query to return a list of Sebastian's friends. "
   ]
  },
  {
   "cell_type": "markdown",
   "metadata": {},
   "source": [
    "#### Assignment 8.3.b\n",
    "\n",
    "Group the `friends` table by `villager_id` and perform a count of number of friends for each villager. "
   ]
  },
  {
   "cell_type": "code",
   "execution_count": null,
   "metadata": {},
   "outputs": [],
   "source": [
    "# TODO: Group the `friends` table by `villager_id` and perform a count of number of friends for each villager. "
   ]
  }
 ],
 "metadata": {
  "kernelspec": {
   "display_name": "Python 3 (ipykernel)",
   "language": "python",
   "name": "python3"
  },
  "language_info": {
   "codemirror_mode": {
    "name": "ipython",
    "version": 3
   },
   "file_extension": ".py",
   "mimetype": "text/x-python",
   "name": "python",
   "nbconvert_exporter": "python",
   "pygments_lexer": "ipython3",
   "version": "3.9.7"
  }
 },
 "nbformat": 4,
 "nbformat_minor": 4
}
