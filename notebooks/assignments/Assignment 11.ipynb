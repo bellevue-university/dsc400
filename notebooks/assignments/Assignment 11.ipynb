{
 "cells": [
  {
   "cell_type": "markdown",
   "metadata": {},
   "source": [
    "# Building Data Dashboards and Reports"
   ]
  },
  {
   "cell_type": "markdown",
   "metadata": {},
   "source": [
    "## Assignment 11\n",
    "\n",
    "Business intelligence tools such as [Microsoft's Power BI](https://powerbi.microsoft.com/en-us/), [Tableau](https://www.tableau.com/), [Apache Superset](https://superset.apache.org/), [Kibana](https://www.elastic.co/kibana/), [Redash](https://github.com/getredash/redash), and [Metabase](https://www.metabase.com/) provide a user-friendly way of creating and distributing data dashboards and reports. However, these kinds of tools may not be easily available within your organization.  Or you may have access to these tools, but you need to generate visualizations or reports outside the scope of those frameworks. \n",
    "\n",
    "This assignment will teach you to programmatically generate reports using the [Jinja](https://jinja.palletsprojects.com/en/3.0.x/) templating engine. For the sake of simplicity, we will limit ourselves to Markdown and HTML output, but you can use the same techniques to create reports that output to Microsoft Word or PDF. \n",
    "\n",
    "---"
   ]
  },
  {
   "cell_type": "markdown",
   "metadata": {},
   "source": [
    "### Assignment 11.1\n",
    "\n",
    "In this part of the assignment, you will create Jinja2 templates that you will use to render Markdown (Assignment 11.1.a) and HTML (Assignment 11.1.b) documents. We will go through a few examples before getting to your part of the assignment. \n",
    "\n",
    "The following code defines two functions to display HTML and Markdown within Jupyter Notebook. Use these functions when completing your assignments. "
   ]
  },
  {
   "cell_type": "code",
   "execution_count": null,
   "metadata": {},
   "outputs": [],
   "source": [
    "from IPython.core.display import display, HTML, Markdown\n",
    "from jinja2 import Template\n",
    "import pandas as pd\n",
    "import numpy as np\n",
    "from tabulate import tabulate\n",
    "from collections import defaultdict\n",
    "\n",
    "def display_html(html_str):\n",
    "    display(HTML(html_str.strip()))\n",
    "\n",
    "def display_md(md_str):\n",
    "    display(Markdown(md_str.strip()))\n",
    "    \n",
    "def render_template(template_str, data):\n",
    "    template = Template(template_str.strip())\n",
    "    return template.render(**data)"
   ]
  },
  {
   "cell_type": "markdown",
   "metadata": {},
   "source": [
    "The following snippet shows how to use `display_html` to render an HTML document in Jupyter. "
   ]
  },
  {
   "cell_type": "code",
   "execution_count": null,
   "metadata": {
    "tags": []
   },
   "outputs": [],
   "source": [
    "html_str = \"\"\"\n",
    "<h1>Heading 1</h1>\n",
    "<ul>\n",
    "  <li>Item 1</li>\n",
    "  <li>Item 2</li>\n",
    "  <li>Item 3</li>\n",
    "</ul>\n",
    "\"\"\"\n",
    "display_html(html_str)"
   ]
  },
  {
   "cell_type": "markdown",
   "metadata": {},
   "source": [
    "This snippet shows how to use `display_md` to render a Markdown document in Jupyter. "
   ]
  },
  {
   "cell_type": "code",
   "execution_count": null,
   "metadata": {
    "tags": []
   },
   "outputs": [],
   "source": [
    "md_str = \"\"\"\n",
    "# Heading 1\n",
    "\n",
    "- Item 1\n",
    "- Item 2\n",
    "- Item 3\n",
    "\"\"\"\n",
    "\n",
    "display_md(md_str)"
   ]
  },
  {
   "cell_type": "markdown",
   "metadata": {},
   "source": [
    "Finally, we render HTML and Markdown documents from data using a Jinja2 template. The `sample_data` dictionary contains the data we will use to generate the documents. "
   ]
  },
  {
   "cell_type": "code",
   "execution_count": null,
   "metadata": {},
   "outputs": [],
   "source": [
    "sample_data = dict(\n",
    "    title='Heading 1',\n",
    "    items=['Item 1', 'Item 2', 'Item 3']\n",
    ")"
   ]
  },
  {
   "cell_type": "markdown",
   "metadata": {},
   "source": [
    "The `html_template_str` variable contains the Jinja2 template for the HTML document. The `render_template` helper function renders the template using the data provided. "
   ]
  },
  {
   "cell_type": "code",
   "execution_count": null,
   "metadata": {},
   "outputs": [],
   "source": [
    "html_template_str = \"\"\"\n",
    "<h1>{{ title }}</h1>\n",
    "<ul>\n",
    "{% for item in items -%}\n",
    "  <li>{{ item }}</li>\n",
    "{% endfor %}</ul>\n",
    "\"\"\"\n",
    "rendered_html = render_template(html_template_str, sample_data)\n",
    "print(rendered_html)"
   ]
  },
  {
   "cell_type": "markdown",
   "metadata": {},
   "source": [
    "We can then use `display_html` to display the HTML output within Jupyter. "
   ]
  },
  {
   "cell_type": "code",
   "execution_count": null,
   "metadata": {},
   "outputs": [],
   "source": [
    "display_html(rendered_html)"
   ]
  },
  {
   "cell_type": "markdown",
   "metadata": {},
   "source": [
    "The `md_template_str` variable contains the Jinja2 template for the Markdown document. The `render_template` helper function renders the template using the data provided. "
   ]
  },
  {
   "cell_type": "code",
   "execution_count": null,
   "metadata": {},
   "outputs": [],
   "source": [
    "md_template_str = \"\"\"\n",
    "# {{ title }}\n",
    "\n",
    "{% for item in items -%}\n",
    "- {{ item }}\n",
    "{% endfor %}\n",
    "\"\"\"\n",
    "rendered_md = render_template(md_template_str, sample_data)\n",
    "print(rendered_md)"
   ]
  },
  {
   "cell_type": "markdown",
   "metadata": {},
   "source": [
    "We can then use `display_md` to display the Markdown output within Jupyter. "
   ]
  },
  {
   "cell_type": "code",
   "execution_count": null,
   "metadata": {},
   "outputs": [],
   "source": [
    "display_md(rendered_md)"
   ]
  },
  {
   "cell_type": "markdown",
   "metadata": {},
   "source": [
    "#### Assignment 11.1.a\n",
    "\n",
    "You should be ready to create Jinja2 templates for Markdown and render the output using the data supplied. The `data_11_1` dictionary contains the data you will use to complete both *assignment 11.1.a* and *assignment 11.1.b*. \n",
    "\n",
    "See [Jinja2's template designer documentation](https://jinja.palletsprojects.com/en/3.0.x/templates/) if you need help designing Jinja2 templates. "
   ]
  },
  {
   "cell_type": "code",
   "execution_count": null,
   "metadata": {},
   "outputs": [],
   "source": [
    "data_11_1 = {\n",
    "  \"title\": \"Report Title\",\n",
    "  \"sections\": [\n",
    "    {\n",
    "      \"name\": \"Section 1\",\n",
    "      \"paragraphs\": [\n",
    "        \"Also environmental join benefit left course fly. Hope book money wind its yes.\",\n",
    "        \"Million situation arm mean. Offer seat major whole particularly dinner school. Find environmental down view.\"\n",
    "      ]\n",
    "    },\n",
    "    {\n",
    "      \"name\": \"Section 2\",\n",
    "      \"paragraphs\": [\n",
    "        \"Director health light performance guess maybe generation. Always property me term real buy ahead push.\"\n",
    "      ]\n",
    "    },\n",
    "    {\n",
    "      \"name\": \"Section 3\",\n",
    "      \"paragraphs\": [\n",
    "        \"Even west truth participant. Green task financial important town.\"\n",
    "      ]\n",
    "    }\n",
    "  ]\n",
    "}"
   ]
  },
  {
   "cell_type": "code",
   "execution_count": null,
   "metadata": {},
   "outputs": [],
   "source": [
    "# TODO: Complete md_template_str_11_1a \n",
    "\n",
    "md_template_str_11_1a = \"\"\"\n",
    "\n",
    "\"\"\"\n",
    "rendered_md_11_1a = render_template(md_template_str_11_1a, data_11_1)\n",
    "print(rendered_md_11_1a)"
   ]
  },
  {
   "cell_type": "markdown",
   "metadata": {},
   "source": [
    "When you finish implementing the Markdown template,  your raw Markdown output should look something like this. \n",
    "\n",
    "```markdown\n",
    "# Report Title\n",
    "\n",
    "## Section 1\n",
    "\n",
    "Also environmental join benefit left course fly. Hope book money wind its yes.\n",
    "\n",
    "Million situation arm mean. Offer seat major whole particularly dinner school. Find environmental down view.\n",
    "\n",
    "\n",
    "## Section 2\n",
    "\n",
    "Director health light performance guess maybe generation. Always property me term real buy ahead push.\n",
    "\n",
    "\n",
    "## Section 3\n",
    "\n",
    "Even west truth participant. Green task financial important town.\n",
    "```\n",
    "Your output may contain additional newline characters. This is not an issue you need to fix. "
   ]
  },
  {
   "cell_type": "code",
   "execution_count": null,
   "metadata": {},
   "outputs": [],
   "source": [
    "# TODO: Check displayed Markdown output\n",
    "\n",
    "display_md(rendered_md_11_1a)"
   ]
  },
  {
   "cell_type": "markdown",
   "metadata": {},
   "source": [
    "#### Assignment 11.1.b\n",
    "\n",
    "Create an HTML template for rendering the `data_11_1` dictionary. "
   ]
  },
  {
   "cell_type": "code",
   "execution_count": null,
   "metadata": {
    "tags": []
   },
   "outputs": [],
   "source": [
    "# TODO: Complete html_template_str_11_1b\n",
    "\n",
    "html_template_str_11_1b = \"\"\"\n",
    "\n",
    "\"\"\"\n",
    "\n",
    "rendered_html_11_1b = render_template(html_template_str_11_1b, data_11_1)\n",
    "print(rendered_html_11_1b)"
   ]
  },
  {
   "cell_type": "markdown",
   "metadata": {},
   "source": [
    "When you finish implementing the HTML template,  your raw HTML output should look something like this. \n",
    "```html\n",
    "<html>\n",
    "<head>\n",
    "    <title>Report Title</title>\n",
    "</head>\n",
    "<body>\n",
    "<h1>Report Title</h1>\n",
    "\n",
    "<h2>Section 1</h2>\n",
    "\n",
    "<p>Also environmental join benefit left course fly. Hope book money wind its yes.</p>\n",
    "\n",
    "<p>Million situation arm mean. Offer seat major whole particularly dinner school. Find environmental down view.</p>\n",
    "\n",
    "<h2>Section 2</h2>\n",
    "\n",
    "<p>Director health light performance guess maybe generation. Always property me term real buy ahead push.</p>\n",
    "\n",
    "<h2>Section 3</h2>\n",
    "\n",
    "<p>Even west truth participant. Green task financial important town.</p>\n",
    "</body>\n",
    "</html>\n",
    "```\n",
    "Your output may contain additional newline characters. This is not an issue you need to fix. "
   ]
  },
  {
   "cell_type": "code",
   "execution_count": null,
   "metadata": {},
   "outputs": [],
   "source": [
    "# TODO: Check displayed HTML output\n",
    "\n",
    "display_html(rendered_html_11_1b)"
   ]
  },
  {
   "cell_type": "markdown",
   "metadata": {},
   "source": [
    "### Assignment 11.2\n",
    "\n",
    "In this part of the assignment, we will use the data from the Stardew Valley wiki to generate a Markdown report. Included below is the code necessary to create the dataset you will use to generate the report. "
   ]
  },
  {
   "cell_type": "code",
   "execution_count": null,
   "metadata": {},
   "outputs": [],
   "source": [
    "base_github_repo_url = 'https://raw.githubusercontent.com/bellevue-university/dsc400/main'\n",
    "family_csv_url = base_github_repo_url + '/data/stardew/family.csv'\n",
    "friends_csv_url = base_github_repo_url + '/data/stardew/friends.csv'\n",
    "gifts_csv_url = base_github_repo_url + '/data/stardew/gifts.csv'\n",
    "villagers_csv_url = base_github_repo_url + '/data/stardew/villagers.csv'\n",
    "\n",
    "df_family = pd.read_csv(family_csv_url)\n",
    "df_gifts = pd.read_csv(gifts_csv_url)\n",
    "df_friends = pd.read_csv(friends_csv_url)\n",
    "df_villagers = pd.read_csv(villagers_csv_url)\n",
    "\n",
    "df_villagers['birthday'] = df_villagers['birthday'].replace(np.nan, 'Unknown')\n",
    "df_villagers['address'] = df_villagers['address'].replace(np.nan, 'Unknown')\n",
    "df_villagers['website'] = 'https://stardewvalleywiki.com/' + df_villagers['id']"
   ]
  },
  {
   "cell_type": "markdown",
   "metadata": {},
   "source": [
    "The following code creates a nested dataset from the previously defined Pandas dataframes. "
   ]
  },
  {
   "cell_type": "code",
   "execution_count": null,
   "metadata": {},
   "outputs": [],
   "source": [
    "def create_profiles_dict():\n",
    "    profiles = {}\n",
    "    for record in df_villagers.to_dict('records'):\n",
    "        profiles[record['id']] = record\n",
    "        profiles[record['id']]['family'] = []\n",
    "        profiles[record['id']]['friends'] = []\n",
    "        profiles[record['id']]['favorite_gifts'] = []\n",
    "\n",
    "    return profiles\n",
    "\n",
    "def get_partial_profile(full_profile):\n",
    "    return dict(\n",
    "        id=full_profile['id'],\n",
    "        name=full_profile['name'],\n",
    "        img_url=full_profile['img_url'],\n",
    "        website=full_profile['website']\n",
    "    )\n",
    "        \n",
    "\n",
    "def add_family_to_profiles(profiles):\n",
    "    family_records = df_family.to_dict('records')\n",
    "    for record in family_records:\n",
    "        villager_id = record['villager_id']\n",
    "        family_member_id = record['family_member_id']\n",
    "        family_member_profile = get_partial_profile(\n",
    "            profiles[family_member_id]\n",
    "        )\n",
    "        family_member_profile['relationship'] = record['relationship']\n",
    "        profiles[villager_id]['family'].append(family_member_profile)\n",
    "\n",
    "def add_friends_to_profiles(profiles):\n",
    "    friends_records = df_friends.to_dict('records')\n",
    "    for record in friends_records:\n",
    "        villager_id = record['villager_id']\n",
    "        friend_id = record['friend_id']\n",
    "        friend_profile = get_partial_profile(profiles[friend_id])\n",
    "        profiles[villager_id]['friends'].append(friend_profile)\n",
    "\n",
    "\n",
    "def add_gifts_to_profiles(profiles):\n",
    "    gift_records = df_gifts.to_dict('records')\n",
    "    for record in gift_records:\n",
    "        villager_id = record['villager_id']\n",
    "        gift_id = record['gift_id']\n",
    "        profiles[villager_id]['favorite_gifts'].append(gift_id)\n",
    "\n",
    "profiles_data = create_profiles_dict()\n",
    "add_family_to_profiles(profiles_data)\n",
    "add_friends_to_profiles(profiles_data)\n",
    "add_gifts_to_profiles(profiles_data)"
   ]
  },
  {
   "cell_type": "markdown",
   "metadata": {},
   "source": [
    "You will use `profiles_data` to create a new dictionary called `stardew_report_data`.  You will use this data as input to the report template. "
   ]
  },
  {
   "cell_type": "code",
   "execution_count": null,
   "metadata": {},
   "outputs": [],
   "source": [
    "# TODO: Change author to your name\n",
    "\n",
    "stardew_report_data = dict(\n",
    "    title='The Stardew Valley Report',\n",
    "    author='AUTHOR NAME'\n",
    ")"
   ]
  },
  {
   "cell_type": "markdown",
   "metadata": {},
   "source": [
    "Use the [python-tabulate](https://github.com/astanin/python-tabulate) library to create a Markdown table of the marriable villagers. There is a partial implementation of the `create_marriable_villagers_table` function. Fill in the missing details. \n",
    "\n",
    "There is also a way to create this table directly from the `df_villagers` dataframe by adding extra columns and using the `to_markdown` method. You can use whichever one you choose. "
   ]
  },
  {
   "cell_type": "code",
   "execution_count": null,
   "metadata": {},
   "outputs": [],
   "source": [
    "def create_markdown_link(name, url):\n",
    "    return '[{}]({})'.format(name, url)\n",
    "\n",
    "# TODO: Finish the implementation of the create_marriable_villagers_table function\n",
    "def create_marriable_villagers_table(profiles_data):\n",
    "    headers = [\"Name\", \"Birthday\", \"Address\"]\n",
    "    table = []\n",
    "    for villager_id, villager_profile in profiles_data.items():\n",
    "        if villager_profile['is_marriable']:            \n",
    "            # TODO: Add the appropriate data to the row\n",
    "\n",
    "            row = []\n",
    "            table.append(row)\n",
    "\n",
    "    md_table = tabulate(table, headers, tablefmt=\"github\")\n",
    "    return md_table\n",
    "\n",
    "marriable_villagers_table = create_marriable_villagers_table(profiles_data)\n",
    "print(marriable_villagers_table)"
   ]
  },
  {
   "cell_type": "markdown",
   "metadata": {},
   "source": [
    "The Markdown output should look like the following result.\n",
    "\n",
    "```markdown\n",
    "| Name                                                 | Birthday   | Address                |\n",
    "|------------------------------------------------------|------------|------------------------|\n",
    "| [Abigail](https://stardewvalleywiki.com/Abigail)     | Fall 13    | Pierre's General Store |\n",
    "| [Alex](https://stardewvalleywiki.com/Alex)           | Summer 13  | 1 River Road           |\n",
    "| [Elliott](https://stardewvalleywiki.com/Elliott)     | Fall 5     | Elliott's Cabin        |\n",
    "| [Emily](https://stardewvalleywiki.com/Emily)         | Spring 27  | 2 Willow Lane          |\n",
    "| [Haley](https://stardewvalleywiki.com/Haley)         | Spring 14  | 2 Willow Lane          |\n",
    "| [Harvey](https://stardewvalleywiki.com/Harvey)       | Winter 14  | Medical Clinic         |\n",
    "| [Leah](https://stardewvalleywiki.com/Leah)           | Winter 23  | Leah's Cottage         |\n",
    "| [Maru](https://stardewvalleywiki.com/Maru)           | Summer 10  | 24 Mountain Road       |\n",
    "| [Penny](https://stardewvalleywiki.com/Penny)         | Fall 2     | Trailer                |\n",
    "| [Sam](https://stardewvalleywiki.com/Sam)             | Summer 17  | 1 Willow Lane          |\n",
    "| [Sebastian](https://stardewvalleywiki.com/Sebastian) | Winter 10  | 24 Mountain Road       |\n",
    "| [Shane](https://stardewvalleywiki.com/Shane)         | Spring 20  | Marnie's Ranch         |\n",
    "```"
   ]
  },
  {
   "cell_type": "code",
   "execution_count": null,
   "metadata": {},
   "outputs": [],
   "source": [
    "# TODO: See how the table looks in Jupyter\n",
    "\n",
    "display_md(marriable_villagers_table)"
   ]
  },
  {
   "cell_type": "code",
   "execution_count": null,
   "metadata": {},
   "outputs": [],
   "source": [
    "# TODO: Add the table to `stardew_report_data` with the key `marriable_villagers_table`"
   ]
  },
  {
   "cell_type": "markdown",
   "metadata": {},
   "source": [
    "#### Assignment 11.2.b\n",
    "\n",
    "Next, we will add a section to our report containing an address book. The address book will have a subsection for each address. Each address subsection will list the residents of that address. You will use the `get_address_data` to add that data to `stardew_report_data` under the `addresses` key. "
   ]
  },
  {
   "cell_type": "markdown",
   "metadata": {},
   "source": [
    "We use Python's built-in `defaultdict` class to create the addresses as a dictionary where the default value is a list. The following code shows an example of using `defaultdict` to add a person to an address. \n",
    "\n",
    "```ipython\n",
    ">>> addresses = defaultdict(list)\n",
    ">>> print(addresses)\n",
    "defaultdict(<class 'list'>, {})\n",
    "```\n",
    "There are no keys or values in this dictionary. However, if we request a value for a non-existent key, it will return an empty list. \n",
    "\n",
    "```ipython\n",
    ">>> addresses['1 River Road']\n",
    "[]\n",
    "```\n",
    "This means we can add new items to the list without having to initialize an empty list. \n",
    "\n",
    "```ipython\n",
    ">>> addresses['1 River Road'].append('Alex')\n",
    ">>> print(addresses)\n",
    "defaultdict(<class 'list'>, {'1 River Road': ['Alex']})\n",
    "```"
   ]
  },
  {
   "cell_type": "code",
   "execution_count": null,
   "metadata": {},
   "outputs": [],
   "source": [
    "# TODO: Finish the implementation of the `get_address_data` function\n",
    "def get_address_data(profiles_data):\n",
    "    addresses = defaultdict(list)\n",
    "    for villager_profile in profiles_data.values():\n",
    "        address = villager_profile['address'].replace('\\n', ' or ')\n",
    "        name = villager_profile['name']\n",
    "        # TODO: Add the villager's name to the list at the key corresponding to the address\n",
    "        \n",
    "    # TODO: Create a dataset where the addresses are sorted\n",
    "    # TODO: Sort the people at the locations\n",
    "    sorted_addresses = []\n",
    "    for address, people in addresses.items():\n",
    "        pass\n",
    "\n",
    "    return sorted_addresses\n",
    "\n",
    "address_data = get_address_data(profiles_data)"
   ]
  },
  {
   "cell_type": "markdown",
   "metadata": {},
   "source": [
    "The following is the output of `address_data[0:3]` (i.e., the first three values in `address_data`. \n",
    "\n",
    "```\n",
    "[('1 River Road', ['Alex', 'Evelyn', 'George']),\n",
    " ('1 Willow Lane', ['Jodi', 'Kent', 'Sam', 'Vincent']),\n",
    " ('2 Willow Lane', ['Emily', 'Haley'])]\n",
    "```"
   ]
  },
  {
   "cell_type": "code",
   "execution_count": null,
   "metadata": {},
   "outputs": [],
   "source": [
    "# TODO: Add `address_data` to the `stardew_report_data` using the `addresses` key\n"
   ]
  },
  {
   "cell_type": "markdown",
   "metadata": {},
   "source": [
    "#### Assignment 11.2.c\n",
    "\n",
    "Finally, you will create a template that uses `stardew_report_data` to generate a Markdown report. "
   ]
  },
  {
   "cell_type": "code",
   "execution_count": null,
   "metadata": {},
   "outputs": [],
   "source": [
    "# TODO: Create the stardew_report_md_str_template\n",
    "\n",
    "stardew_report_md_str_template = \"\"\"\n",
    "\n",
    "\"\"\"\n",
    "\n",
    "# TODO: Verifiy the rendered report\n",
    "rendered_report = render_template(stardew_report_md_str_template, stardew_report_data)\n",
    "print(rendered_report)"
   ]
  },
  {
   "cell_type": "markdown",
   "metadata": {},
   "source": [
    "The Markdown output of the report should look something like the result included below. \n",
    "\n",
    "```markdown\n",
    "# The Stardew Valley Report\n",
    "\n",
    "*Reported created by AUTHOR NAME*\n",
    "\n",
    "## Eligible Bachelors and Bachelorettes\n",
    "\n",
    "| Name                                                 | Birthday   | Address                |\n",
    "|------------------------------------------------------|------------|------------------------|\n",
    "| [Abigail](https://stardewvalleywiki.com/Abigail)     | Fall 13    | Pierre's General Store |\n",
    "| [Alex](https://stardewvalleywiki.com/Alex)           | Summer 13  | 1 River Road           |\n",
    "| [Elliott](https://stardewvalleywiki.com/Elliott)     | Fall 5     | Elliott's Cabin        |\n",
    "| [Emily](https://stardewvalleywiki.com/Emily)         | Spring 27  | 2 Willow Lane          |\n",
    "| [Haley](https://stardewvalleywiki.com/Haley)         | Spring 14  | 2 Willow Lane          |\n",
    "| [Harvey](https://stardewvalleywiki.com/Harvey)       | Winter 14  | Medical Clinic         |\n",
    "| [Leah](https://stardewvalleywiki.com/Leah)           | Winter 23  | Leah's Cottage         |\n",
    "| [Maru](https://stardewvalleywiki.com/Maru)           | Summer 10  | 24 Mountain Road       |\n",
    "| [Penny](https://stardewvalleywiki.com/Penny)         | Fall 2     | Trailer                |\n",
    "| [Sam](https://stardewvalleywiki.com/Sam)             | Summer 17  | 1 Willow Lane          |\n",
    "| [Sebastian](https://stardewvalleywiki.com/Sebastian) | Winter 10  | 24 Mountain Road       |\n",
    "| [Shane](https://stardewvalleywiki.com/Shane)         | Spring 20  | Marnie's Ranch         |\n",
    "\n",
    "## Address Book\n",
    "\n",
    "\n",
    "### 1 River Road\n",
    "- Alex\n",
    "- Evelyn\n",
    "- George\n",
    "\n",
    "\n",
    "### 1 Willow Lane\n",
    "- Jodi\n",
    "- Kent\n",
    "- Sam\n",
    "- Vincent\n",
    "\n",
    "...\n",
    "\n",
    "### Unknown\n",
    "- Governor\n",
    "- Henchman\n",
    "\n",
    "\n",
    "### Wizard's Tower\n",
    "- Wizard\n",
    "\n",
    "```"
   ]
  },
  {
   "cell_type": "code",
   "execution_count": null,
   "metadata": {},
   "outputs": [],
   "source": [
    "# TODO: Display the report output in Jupyter\n",
    "display_md(rendered_report)"
   ]
  }
 ],
 "metadata": {
  "kernelspec": {
   "display_name": "Python 3 (ipykernel)",
   "language": "python",
   "name": "python3"
  },
  "language_info": {
   "codemirror_mode": {
    "name": "ipython",
    "version": 3
   },
   "file_extension": ".py",
   "mimetype": "text/x-python",
   "name": "python",
   "nbconvert_exporter": "python",
   "pygments_lexer": "ipython3",
   "version": "3.9.7"
  }
 },
 "nbformat": 4,
 "nbformat_minor": 4
}
