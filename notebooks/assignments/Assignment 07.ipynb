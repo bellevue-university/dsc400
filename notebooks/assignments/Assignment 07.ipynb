{
 "cells": [
  {
   "cell_type": "markdown",
   "id": "66836b23-26a5-4839-bb3d-7915f53cabbf",
   "metadata": {},
   "source": [
    "# Stream Processing with Spark"
   ]
  },
  {
   "cell_type": "markdown",
   "id": "6e7160c2-4bed-4567-a571-38e5f75eb3d0",
   "metadata": {},
   "source": [
    "## Assignment 7"
   ]
  },
  {
   "cell_type": "markdown",
   "id": "252bfef8-5d45-4999-86c6-5cdd379c0d29",
   "metadata": {
    "tags": []
   },
   "source": [
    "### Assignment 7.1\n",
    "\n",
    "In this assignment, you will run the [quick example from Apache Spark's structured streaming programming guide](http://spark.apache.org/docs/latest/structured-streaming-programming-guide.html#quick-example). \n",
    "The first step involves opening a terminal and running the netcat command. You must start this command before running the Spark code. You can open a terminal in JupyterLab by selecting *File -> New -> Terminal* from the menu. Start the netcat programming running on port 9999 by using the following command. \n",
    "\n",
    "```\n",
    "nc -lk 9999\n",
    "```\n",
    "\n",
    "With netcat still running in the terminal, come back to this notebook and run the following code. "
   ]
  },
  {
   "cell_type": "code",
   "execution_count": null,
   "id": "02a44389-d4ce-47a8-8cbf-8a4d22c001da",
   "metadata": {},
   "outputs": [],
   "source": [
    "from pyspark.sql import SparkSession\n",
    "from pyspark.sql.functions import explode\n",
    "from pyspark.sql.functions import split\n",
    "\n",
    "spark = SparkSession \\\n",
    "    .builder \\\n",
    "    .appName(\"Assignment 7.1\") \\\n",
    "    .getOrCreate()\n",
    "\n",
    "lines = spark \\\n",
    "    .readStream \\\n",
    "    .format(\"socket\") \\\n",
    "    .option(\"host\", \"localhost\") \\\n",
    "    .option(\"port\", 9999) \\\n",
    "    .load()\n",
    "\n",
    "# Split the lines into words\n",
    "words = lines.select(\n",
    "   explode(\n",
    "       split(lines.value, \" \")\n",
    "   ).alias(\"word\")\n",
    ")\n",
    "\n",
    "# Generate running word count\n",
    "wordCounts = words.groupBy(\"word\").count()\n",
    "\n",
    "try:\n",
    "    query = wordCounts \\\n",
    "        .writeStream \\\n",
    "        .outputMode(\"complete\") \\\n",
    "        .format(\"console\") \\\n",
    "        .start()\n",
    "\n",
    "    query.awaitTermination()\n",
    "except KeyboardInterrupt:\n",
    "    print('Stopping query')"
   ]
  },
  {
   "cell_type": "markdown",
   "id": "985a4f6d-07f2-410d-87b8-dc447d46096b",
   "metadata": {},
   "source": [
    "Now you can go back to the terminal and enter text values. You can input any text that you like. You can use [The Project Gutenberg EBook of The Odyssey, by Homer](https://www.gutenberg.org/files/1727/1727-0.txt) if you can't think of any sample text. After entering the text in the terminal, you should output within this notebook. "
   ]
  },
  {
   "cell_type": "markdown",
   "id": "fca8a3d7-2c97-47b7-91d7-a80bfc2e7d37",
   "metadata": {},
   "source": [
    "### Assignment 7.2\n",
    "\n",
    "Modify the word count query so that the streaming query only returns results where the word count is greater than two. Test your code by typing repeated words into the netcat program. "
   ]
  }
 ],
 "metadata": {
  "kernelspec": {
   "display_name": "Python 3 (ipykernel)",
   "language": "python",
   "name": "python3"
  },
  "language_info": {
   "codemirror_mode": {
    "name": "ipython",
    "version": 3
   },
   "file_extension": ".py",
   "mimetype": "text/x-python",
   "name": "python",
   "nbconvert_exporter": "python",
   "pygments_lexer": "ipython3",
   "version": "3.9.7"
  }
 },
 "nbformat": 4,
 "nbformat_minor": 5
}
