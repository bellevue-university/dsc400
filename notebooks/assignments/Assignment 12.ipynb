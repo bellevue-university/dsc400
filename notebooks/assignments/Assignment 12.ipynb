{
 "cells": [
  {
   "cell_type": "markdown",
   "metadata": {},
   "source": [
    "# Deploying Machine Learning Models\n",
    "\n",
    "This assignment will create a REST-based web service that deploys a pre-trained deep learning image recognition model from Keras.  We will use a modified version of the ResNet50 example found at [Keras applications](https://keras.io/api/applications/). This assignment uses the [Falcon Web Framework](https://falcon.readthedocs.io/en/stable/) to create a simple REST API and the [Requests library](https://docs.python-requests.org/en/latest/) to make API requests. \n",
    "\n",
    "We will use two Jupyter notebooks to implement the code for this assignment. `Assignment 12.ipynb` (this notebook) is where you implement the server-side code, and `Assignment 12a_client.ipynb` is the client code used to test the server. The client-side code is for testing purposes only. As such, you only need to turn in the `Assignment 12.ipynb` notebook containing the server code. "
   ]
  },
  {
   "cell_type": "markdown",
   "metadata": {},
   "source": [
    "## Assignment 12"
   ]
  },
  {
   "cell_type": "markdown",
   "metadata": {},
   "source": [
    "### Assignment 12.1\n",
    "\n",
    "In the first part of the assignment, you will create a REST-based web service that takes in an image URL as a parameter and returns a JSON-formatted response. This initial version (v1) does not perform image classification. See the [Falcon quickstart guide](https://falcon.readthedocs.io/en/stable/user/quickstart.html) for more information on getting started with the Falcon web server. "
   ]
  },
  {
   "cell_type": "code",
   "execution_count": null,
   "metadata": {},
   "outputs": [],
   "source": [
    "from wsgiref.simple_server import make_server\n",
    "import falcon\n",
    "\n",
    "# Falcon follows the REST architectural style, meaning (among\n",
    "# other things) that you think in terms of resources and state\n",
    "# transitions, which map to HTTP verbs.\n",
    "class ClassifyResourceV1:\n",
    "    def on_get(self, req, resp):\n",
    "        # Gets the img query parameter\n",
    "        img_url = req.get_param('img')\n",
    "        # Creates a result dictionary with a single entry\n",
    "        result = dict(src_img=img_url)\n",
    "        # Sets the response content to the result dictionary\n",
    "        resp.media = result\n",
    "        \"\"\"Handles GET requests\"\"\"\n",
    "        resp.status = falcon.HTTP_200  # This is the default status\n",
    "\n",
    "        \n",
    "# falcon.App instances are callable WSGI apps\n",
    "# in larger applications the app is created in a separate file\n",
    "app_v1 = falcon.App()\n",
    "\n",
    "# Resources are represented by long-lived class instances\n",
    "classify_v1 = ClassifyResourceV1()\n",
    "\n",
    "# things will handle all requests to the '/classify' URL path\n",
    "app_v1.add_route('/classify', classify_v1)"
   ]
  },
  {
   "cell_type": "markdown",
   "metadata": {},
   "source": [
    "Below is a function that runs a Falcon app. You will use it to run `app_v1` and `app_v2`. "
   ]
  },
  {
   "cell_type": "code",
   "execution_count": null,
   "metadata": {},
   "outputs": [],
   "source": [
    "def run_server(app):\n",
    "    with make_server('', 9999, app) as httpd:\n",
    "        print('Serving on port 9999...')\n",
    "\n",
    "        # Serve until process is killed\n",
    "        try:\n",
    "            httpd.serve_forever()\n",
    "        except KeyboardInterrupt:\n",
    "            print('Stopping web server')"
   ]
  },
  {
   "cell_type": "markdown",
   "metadata": {},
   "source": [
    "Run `run_server(app_v1)` in the cell below. This function will run until manually stopped. With this cell running, open `Assignment 12a_client.ipynb` and test the server. Once you finish testing, stop the cell from running. "
   ]
  },
  {
   "cell_type": "code",
   "execution_count": null,
   "metadata": {},
   "outputs": [],
   "source": [
    "run_server(app_v1)"
   ]
  },
  {
   "cell_type": "markdown",
   "metadata": {},
   "source": [
    "### Assignment 12.2\n",
    "\n",
    "Now you will implement a function that makes image classification predictions based on an image URL.  This code uses the *Classify ImageNet classes with ResNet50* example from [Keras applications documentation](https://keras.io/api/applications/)."
   ]
  },
  {
   "cell_type": "code",
   "execution_count": null,
   "metadata": {},
   "outputs": [],
   "source": [
    "from pathlib import Path\n",
    "import tempfile\n",
    "\n",
    "from tensorflow.keras.applications.resnet50 import ResNet50\n",
    "from tensorflow.keras.preprocessing import image\n",
    "from tensorflow.keras.applications.resnet50 import preprocess_input, decode_predictions\n",
    "\n",
    "import numpy as np\n",
    "import requests\n",
    "\n",
    "import json\n",
    "\n",
    "# Downloads and loads the ResNetModel\n",
    "model = ResNet50(weights='imagenet')"
   ]
  },
  {
   "cell_type": "markdown",
   "metadata": {},
   "source": [
    "The `load_img_url` function is a helper function that downloads an image to a temporary file and converts it into an object compatible with the ResNet50 model. "
   ]
  },
  {
   "cell_type": "code",
   "execution_count": null,
   "metadata": {},
   "outputs": [],
   "source": [
    "def load_img_url(img_url, target_size):\n",
    "    r = requests.get(img_url)\n",
    "    if r.status_code != 200:\n",
    "        print('Could not download image')\n",
    "        return None\n",
    "    \n",
    "    img_suffix = '.{}'.format(img_url.split('.')[-1])\n",
    "    \n",
    "    with tempfile.NamedTemporaryFile(suffix=img_suffix) as fp:\n",
    "        fp.write(r.content)\n",
    "        tf_path = Path(fp.name)\n",
    "        img = image.load_img(tf_path, target_size=target_size)\n",
    "    \n",
    "    return img"
   ]
  },
  {
   "cell_type": "markdown",
   "metadata": {},
   "source": [
    "Using the *Classify ImageNet classes with ResNet50* example from [Keras applications documentation](https://keras.io/api/applications/). as a guide, finish the code to return a dictionary containing the prediction results. "
   ]
  },
  {
   "cell_type": "code",
   "execution_count": null,
   "metadata": {},
   "outputs": [],
   "source": [
    "def make_prediction(model, img_url, target_size=(224, 224), top=5):\n",
    "    result = dict(src_img=img_url)\n",
    "    img = load_img_url(img_url, target_size)\n",
    "    x = image.img_to_array(img)\n",
    "    x = np.expand_dims(x, axis=0)\n",
    "    x = preprocess_input(x)\n",
    "    \n",
    "    preds = model.predict(x)\n",
    "    \n",
    "    result['predictions'] = []\n",
    "\n",
    "    for class_name, class_description, score in decode_predictions(preds, top=top)[0]:\n",
    "        result['predictions'].append(dict(\n",
    "            class_name=str(class_name),\n",
    "            class_description=str(class_description),\n",
    "            score=float(score)\n",
    "        ))\n",
    "        \n",
    "    return result    "
   ]
  },
  {
   "cell_type": "markdown",
   "metadata": {},
   "source": [
    "Test the `make_prediction` function using a collection of image URLs.  Note: You may experience an error of the form `UnidentifiedImageError: cannot identify image file <_io.BytesIO object at 0x15a8acc20>`.  Remove the offending image URL and try a different image. \n",
    "\n",
    "For testing purposes, this function outputs the following result for https://stardewvalleywiki.com/mediawiki/images/9/93/Greenhouse.png. \n",
    "\n",
    "```json\n",
    "{\n",
    "  \"src_img\": \"https://stardewvalleywiki.com/mediawiki/images/9/93/Greenhouse.png\",\n",
    "  \"predictions\": [\n",
    "    {\n",
    "      \"class_name\": \"n04201297\",\n",
    "      \"class_description\": \"shoji\",\n",
    "      \"score\": 0.3795466423034668\n",
    "    },\n",
    "    {\n",
    "      \"class_name\": \"n02788148\",\n",
    "      \"class_description\": \"bannister\",\n",
    "      \"score\": 0.1699788123369217\n",
    "    },\n",
    "    {\n",
    "      \"class_name\": \"n04589890\",\n",
    "      \"class_description\": \"window_screen\",\n",
    "      \"score\": 0.07670347392559052\n",
    "    },\n",
    "    {\n",
    "      \"class_name\": \"n06359193\",\n",
    "      \"class_description\": \"web_site\",\n",
    "      \"score\": 0.06704317778348923\n",
    "    },\n",
    "    {\n",
    "      \"class_name\": \"n04590129\",\n",
    "      \"class_description\": \"window_shade\",\n",
    "      \"score\": 0.03521980345249176\n",
    "    }\n",
    "  ]\n",
    "}\n",
    "```"
   ]
  },
  {
   "cell_type": "code",
   "execution_count": null,
   "metadata": {},
   "outputs": [],
   "source": [
    "# TODO: Test the `make_prediction` function using img_urls\n",
    "\n",
    "# TODO: Add img_urls for testing\n",
    "img_urls = []\n",
    "\n",
    "for img_url in img_urls:\n",
    "    result = make_prediction(model, img_url)\n",
    "    print('-----------------------------')\n",
    "    print('')\n",
    "    # Prints a pretty version of the result\n",
    "    print(json.dumps(result, indent=2))\n",
    "    print('-----------------------------')\n",
    "    print()"
   ]
  },
  {
   "cell_type": "markdown",
   "metadata": {},
   "source": [
    "### Assignment 12.3\n",
    "\n",
    "This part of the assignment combines the two previous steps. Implement `ClassifyResourceV2` that includes the`make_prediction` function. "
   ]
  },
  {
   "cell_type": "code",
   "execution_count": null,
   "metadata": {},
   "outputs": [],
   "source": [
    "class ClassifyResourceV2:\n",
    "    def on_get(self, req, resp):\n",
    "        # TODO: Implement the code to handle the GET requests\n",
    "\n",
    "app_v2 = falcon.App()\n",
    "\n",
    "classify_v1 = ClassifyResourceV2()\n",
    "\n",
    "app_v2.add_route('/classify', classify_v2)"
   ]
  },
  {
   "cell_type": "markdown",
   "metadata": {},
   "source": [
    "Once you have finished, run `app_v2` using the `run_server(app_v2)`.  This function will run until manually stopped. With this cell running, open Assignment 12a_client.ipynb and test the server. Once you finish testing, stop the cell from running."
   ]
  },
  {
   "cell_type": "code",
   "execution_count": null,
   "metadata": {},
   "outputs": [],
   "source": [
    "run_server(app_v2)"
   ]
  }
 ],
 "metadata": {
  "kernelspec": {
   "display_name": "Python 3 (ipykernel)",
   "language": "python",
   "name": "python3"
  },
  "language_info": {
   "codemirror_mode": {
    "name": "ipython",
    "version": 3
   },
   "file_extension": ".py",
   "mimetype": "text/x-python",
   "name": "python",
   "nbconvert_exporter": "python",
   "pygments_lexer": "ipython3",
   "version": "3.9.7"
  }
 },
 "nbformat": 4,
 "nbformat_minor": 4
}
