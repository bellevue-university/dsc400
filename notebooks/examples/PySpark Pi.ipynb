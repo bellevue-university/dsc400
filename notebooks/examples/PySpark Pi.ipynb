{
 "cells": [
  {
   "cell_type": "markdown",
   "id": "111a8fc5-e316-45b3-84e1-96e59a36d2ab",
   "metadata": {},
   "source": [
    "# Compute Pi with PySpark\n",
    "\n",
    "The following code computes Pi using PySpark. Use this to test your PySpark installation.  The code should return a message of the form `Pi is roughly 3.146600`. Note: the calculated value for Pi may be different than the value provided in the example message. "
   ]
  },
  {
   "cell_type": "code",
   "execution_count": null,
   "id": "971f3789-6fa6-4773-b5dc-0c5ce094c3e5",
   "metadata": {},
   "outputs": [],
   "source": [
    "from random import random\n",
    "from operator import add\n",
    "\n",
    "from pyspark.sql import SparkSession\n",
    "\n",
    "spark = SparkSession\\\n",
    "    .builder\\\n",
    "    .appName(\"PythonPi\")\\\n",
    "    .getOrCreate()\n",
    "\n",
    "partitions = 4\n",
    "n = 100000 * partitions\n",
    "\n",
    "def f(_):\n",
    "    x = random() * 2 - 1\n",
    "    y = random() * 2 - 1\n",
    "    return 1 if x ** 2 + y ** 2 <= 1 else 0\n",
    "\n",
    "count = spark.sparkContext.parallelize(range(1, n + 1), partitions).map(f).reduce(add)\n",
    "print(\"Pi is roughly %f\" % (4.0 * count / n))\n",
    "\n",
    "spark.stop()"
   ]
  }
 ],
 "metadata": {
  "kernelspec": {
   "display_name": "Python 3 (ipykernel)",
   "language": "python",
   "name": "python3"
  },
  "language_info": {
   "codemirror_mode": {
    "name": "ipython",
    "version": 3
   },
   "file_extension": ".py",
   "mimetype": "text/x-python",
   "name": "python",
   "nbconvert_exporter": "python",
   "pygments_lexer": "ipython3",
   "version": "3.9.7"
  }
 },
 "nbformat": 4,
 "nbformat_minor": 5
}
